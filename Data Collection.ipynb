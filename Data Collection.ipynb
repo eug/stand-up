{
 "cells": [
  {
   "cell_type": "code",
   "execution_count": 1,
   "metadata": {},
   "outputs": [],
   "source": [
    "import pandas as pd\n",
    "import youtube_dl"
   ]
  },
  {
   "cell_type": "code",
   "execution_count": 2,
   "metadata": {},
   "outputs": [],
   "source": [
    "def parse_meta(meta):\n",
    "    info = {\n",
    "        'title': meta['title'],\n",
    "        'like_count': meta['like_count'],\n",
    "        'view_count': meta['view_count'],\n",
    "        'upload_date': meta['upload_date'],\n",
    "        'display_id': meta['display_id'],\n",
    "        'duration': meta['duration'],\n",
    "    }\n",
    "    \n",
    "    video_format_id, audio_format_id = meta['format_id'].split('+')\n",
    "    \n",
    "    for fmt in meta['formats']:\n",
    "        if fmt['format_id'] == video_format_id:\n",
    "            info['video_resolution'] =  '{}x{}'.format(fmt['width'], fmt['height'])\n",
    "            info['video_fps'] = fmt['fps']\n",
    "            info['video_codec'] =  fmt['vcodec']\n",
    "            info['video_ext'] =  fmt['ext']\n",
    "            info['video_filesize'] = fmt['filesize']\n",
    "            info['video_format_id'] =  video_format_id\n",
    "        elif fmt['format_id'] == audio_format_id:\n",
    "            info['audio_codec'] = fmt['acodec']\n",
    "            info['audio_ext'] = fmt['ext']\n",
    "            info['audio_filesize'] = fmt['filesize']\n",
    "            info['audio_format_id'] = audio_format_id\n",
    "\n",
    "    return info"
   ]
  },
  {
   "cell_type": "code",
   "execution_count": 3,
   "metadata": {
    "slideshow": {
     "slide_type": "fragment"
    }
   },
   "outputs": [
    {
     "name": "stderr",
     "output_type": "stream",
     "text": [
      "WARNING: Unable to extract video title\n",
      "WARNING: Unable to extract video title\n"
     ]
    }
   ],
   "source": [
    "yt_videos = [\n",
    "    'https://www.youtube.com/watch?v=jaOEY8iRo6c',\n",
    "    'https://www.youtube.com/watch?v=wvzLATU8M04',\n",
    "    'https://www.youtube.com/watch?v=Q2LDobhGHm4',\n",
    "    'https://www.youtube.com/watch?v=NcAZdATqkxA',\n",
    "    'https://www.youtube.com/watch?v=e8mvLIXoIug',\n",
    "    'https://www.youtube.com/watch?v=WIVVb87JPog',\n",
    "    'https://www.youtube.com/watch?v=UpX_kurvAXM',\n",
    "    'https://www.youtube.com/watch?v=IAzZnHwmBfc',\n",
    "    'https://www.youtube.com/watch?v=EEFInk9wlzs',\n",
    "    'https://www.youtube.com/watch?v=h7VtMor4lL8',\n",
    "    'https://www.youtube.com/watch?v=2aaM63uawjo',\n",
    "    'https://www.youtube.com/watch?v=XLK7E1aEOuM',\n",
    "    'https://www.youtube.com/watch?v=-OUplnLYcxY',\n",
    "    'https://www.youtube.com/watch?v=SXw_LK0hkcg',\n",
    "    'https://www.youtube.com/watch?v=ao2LuQwi4is'\n",
    "]\n",
    "\n",
    "ydl_opts = {\n",
    "    'format': 'bestvideo+bestaudio',\n",
    "    'merge_output_format': 'mkv',\n",
    "    'outtmpl': '%(id)s',\n",
    "    'quiet': True,\n",
    "    'noplaylist' : True,\n",
    "    'prefer_ffmpeg': True,\n",
    "    'keepvideo': True,\n",
    "    'postprocessors': [{\n",
    "        'key': 'FFmpegExtractAudio',\n",
    "        'preferredcodec': 'best',\n",
    "        'preferredquality': '0',\n",
    "        'nopostoverwrites': False\n",
    "    }]\n",
    "}\n",
    "\n",
    "frames = []\n",
    "\n",
    "with youtube_dl.YoutubeDL(ydl_opts) as ydl:\n",
    "    for yt_video in yt_videos:\n",
    "        ydl.download([yt_video])\n",
    "        info = ydl.extract_info(yt_video, download=False)\n",
    "        meta = parse_meta(info)\n",
    "        frames.append(pd.DataFrame({k: [meta[k]] for k in meta}))\n",
    "\n",
    "meta = pd.concat(frames,axis=0)\n",
    "meta.to_csv('meta.csv', index=False)"
   ]
  },
  {
   "cell_type": "code",
   "execution_count": 4,
   "metadata": {},
   "outputs": [],
   "source": [
    "import os\n",
    "for file in os.listdir('.'):\n",
    "    if '.f' in file or '.' not in file:\n",
    "        os.remove(file)"
   ]
  },
  {
   "cell_type": "code",
   "execution_count": null,
   "metadata": {},
   "outputs": [],
   "source": []
  }
 ],
 "metadata": {
  "kernelspec": {
   "display_name": "Python 3",
   "language": "python",
   "name": "python3"
  },
  "language_info": {
   "codemirror_mode": {
    "name": "ipython",
    "version": 3
   },
   "file_extension": ".py",
   "mimetype": "text/x-python",
   "name": "python",
   "nbconvert_exporter": "python",
   "pygments_lexer": "ipython3",
   "version": "3.5.2"
  }
 },
 "nbformat": 4,
 "nbformat_minor": 2
}
