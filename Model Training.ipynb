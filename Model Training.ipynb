{
 "cells": [
  {
   "cell_type": "code",
   "execution_count": 12,
   "metadata": {},
   "outputs": [],
   "source": [
    "import time\n",
    "import librosa\n",
    "import pandas as pd\n",
    "from sklearn.externals import joblib\n",
    "from sklearn.neural_network import MLPClassifier"
   ]
  },
  {
   "cell_type": "code",
   "execution_count": 13,
   "metadata": {},
   "outputs": [],
   "source": [
    "SHIFT_FACTOR = 1 / 5"
   ]
  },
  {
   "cell_type": "code",
   "execution_count": 14,
   "metadata": {},
   "outputs": [],
   "source": [
    "def read_meta(display_id):\n",
    "    meta = pd.read_csv('meta.csv')\n",
    "    info = meta[meta['display_id'] == display_id]\n",
    "    if info.empty: return\n",
    "    \n",
    "    title = info['title'].values[0]\n",
    "    views_per_like = info['view_count'].values[0] / info['like_count'].values[0]\n",
    "    view_count = info['view_count'].values[0] \n",
    "    like_count = info['like_count'].values[0]\n",
    "    duration = info['duration'].values[0]\n",
    "    \n",
    "    return (title, round(views_per_like, 2), view_count, like_count, duration)"
   ]
  },
  {
   "cell_type": "code",
   "execution_count": 15,
   "metadata": {},
   "outputs": [],
   "source": [
    "def get_total_laugh(y_preds, sr):\n",
    "    total_laugh = 0\n",
    "    \n",
    "    shift = int(sr * SHIFT_FACTOR)\n",
    "    start, stop = 0, shift\n",
    "    t = 0\n",
    "\n",
    "    seq = False\n",
    "    \n",
    "    for y_pred in y_preds:\n",
    "        if (not seq) and y_pred == 1:\n",
    "            seq = True\n",
    "            start = t\n",
    "        elif seq and y_pred == 0:\n",
    "            seq = False\n",
    "            stop = t + shift\n",
    "            duration = (stop - start)/sr\n",
    "            \n",
    "            if duration >= 1:\n",
    "                total_laugh += duration\n",
    "        t += shift\n",
    "    \n",
    "    return total_laugh"
   ]
  },
  {
   "cell_type": "code",
   "execution_count": 16,
   "metadata": {},
   "outputs": [],
   "source": [
    "def to_srt(outfile, y_preds, sr):\n",
    "    \n",
    "    subtitles = []\n",
    "    shift = int(sr * SHIFT_FACTOR)\n",
    "    start = 0\n",
    "    stop = 0\n",
    "    t = 0\n",
    "    i = 1\n",
    "    \n",
    "    is_sequence = False\n",
    "    \n",
    "    for y_pred in y_preds:\n",
    "        if is_sequence:\n",
    "            if y_pred == 0:\n",
    "                is_sequence = False\n",
    "                stop = t + shift\n",
    "                duration = (stop - start) / sr\n",
    "                if duration >= 1:\n",
    "                    st = time.strftime('%H:%M:%S,000', time.gmtime(start/sr))\n",
    "                    sp = time.strftime('%H:%M:%S,000', time.gmtime(stop/sr))\n",
    "                    subtitle = \"{}\\n{} --> {}\\n{}\\n\\n\".format(i, st, sp, \"[Laugh]\")\n",
    "                    subtitles.append(subtitle)\n",
    "                    i += 1\n",
    "        else:\n",
    "            if y_pred == 1:\n",
    "                is_sequence = True\n",
    "                start = t\n",
    "\n",
    "        t += shift\n",
    "    \n",
    "    with open(outfile + '.srt', 'w') as f:\n",
    "        f.write(''.join(subtitles))"
   ]
  },
  {
   "cell_type": "code",
   "execution_count": 17,
   "metadata": {},
   "outputs": [],
   "source": [
    "def get_sample_rate(audio_file):\n",
    "    _, sr = librosa.load(audio_file, sr=None, mono=True)\n",
    "    return sr"
   ]
  },
  {
   "cell_type": "code",
   "execution_count": 18,
   "metadata": {},
   "outputs": [],
   "source": [
    "tr = pd.concat([\n",
    "    pd.read_csv(\"2aaM63uawjo.csv\"),\n",
    "    pd.read_csv(\"ao2LuQwi4is.csv\")\n",
    "])"
   ]
  },
  {
   "cell_type": "code",
   "execution_count": 19,
   "metadata": {},
   "outputs": [],
   "source": [
    "X_train = tr.drop('label', axis=1)\n",
    "y_train = tr['label']"
   ]
  },
  {
   "cell_type": "code",
   "execution_count": 21,
   "metadata": {},
   "outputs": [
    {
     "data": {
      "text/plain": [
       "['model.pkl']"
      ]
     },
     "execution_count": 21,
     "metadata": {},
     "output_type": "execute_result"
    }
   ],
   "source": [
    "model = MLPClassifier(hidden_layer_sizes=(900), early_stopping=True, verbose=False)\n",
    "model.fit(X_train, y_train)\n",
    "joblib.dump(model, 'model.pkl')"
   ]
  },
  {
   "cell_type": "code",
   "execution_count": 22,
   "metadata": {},
   "outputs": [
    {
     "name": "stdout",
     "output_type": "stream",
     "text": [
      "Detecting laughs in 'wvzLATU8M04'\n",
      "Detecting laughs in 'jaOEY8iRo6c'\n",
      "Detecting laughs in 'Q2LDobhGHm4'\n",
      "Detecting laughs in 'NcAZdATqkxA'\n",
      "Detecting laughs in 'e8mvLIXoIug'\n",
      "Detecting laughs in 'WIVVb87JPog'\n",
      "Detecting laughs in 'UpX_kurvAXM'\n",
      "Detecting laughs in 'IAzZnHwmBfc'\n",
      "Detecting laughs in 'EEFInk9wlzs'\n"
     ]
    }
   ],
   "source": [
    "test_filenames = [\n",
    "    'wvzLATU8M04',\n",
    "    'jaOEY8iRo6c',\n",
    "    'Q2LDobhGHm4',\n",
    "    'NcAZdATqkxA',\n",
    "    'e8mvLIXoIug',\n",
    "    'WIVVb87JPog',\n",
    "    'UpX_kurvAXM',\n",
    "    'IAzZnHwmBfc',\n",
    "    'EEFInk9wlzs',\n",
    "]\n",
    "\n",
    "for filename in test_filenames:\n",
    "    print(\"Detecting laughs in '{}'\".format(filename))\n",
    "    X_test = pd.read_csv(filename + '.csv')\n",
    "    ts_sr = get_sample_rate(filename + '.m4a')    \n",
    "    y_preds  = model.predict(X_test)\n",
    "    to_srt(filename, y_preds, ts_sr)\n",
    "    "
   ]
  },
  {
   "cell_type": "code",
   "execution_count": null,
   "metadata": {},
   "outputs": [],
   "source": []
  }
 ],
 "metadata": {
  "kernelspec": {
   "display_name": "Python 3",
   "language": "python",
   "name": "python3"
  },
  "language_info": {
   "codemirror_mode": {
    "name": "ipython",
    "version": 3
   },
   "file_extension": ".py",
   "mimetype": "text/x-python",
   "name": "python",
   "nbconvert_exporter": "python",
   "pygments_lexer": "ipython3",
   "version": "3.5.2"
  }
 },
 "nbformat": 4,
 "nbformat_minor": 2
}
